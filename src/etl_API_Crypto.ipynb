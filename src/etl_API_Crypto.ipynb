{
 "cells": [
  {
   "cell_type": "code",
   "execution_count": 2,
   "metadata": {},
   "outputs": [],
   "source": [
    "#importação das bibliotecas\n",
    "import os\n",
    "import pandas as pd\n",
    "from pandas_gbq import to_gbq\n",
    "import numpy as  np\n",
    "import google.cloud.bigquery\n",
    "from google.cloud import bigquery\n",
    "from google.oauth2 import service_account\n",
    "from binance.client import Client "
   ]
  },
  {
   "cell_type": "code",
   "execution_count": 3,
   "metadata": {},
   "outputs": [],
   "source": [
    "#Criação do objeto virtual para GCP \n",
    "credentials = service_account.Credentials.from_service_account_file(\"GBQ.json\", \n",
    "                                                                    scopes=['https://www.googleapis.com/auth/cloud-platform',\n",
    "                                                                            'https://www.googleapis.com/auth/drive'])\n"
   ]
  },
  {
   "cell_type": "code",
   "execution_count": 4,
   "metadata": {},
   "outputs": [],
   "source": [
    "# Conexão com API da Binance\n",
    "api_key = os.getenv(\"api_key_binance\")\n",
    "api_secret = os.getenv(\"api_secret_binance\")\n",
    "\n",
    "client = Client(api_key, api_secret)"
   ]
  },
  {
   "cell_type": "code",
   "execution_count": 5,
   "metadata": {},
   "outputs": [],
   "source": [
    "#Função de tratamento dos dados recebidos\n",
    "\n",
    "def tratamento_cripto(symbol):\n",
    "    \n",
    "    # extração dos dados históricos\n",
    "    ar = np.array(client.get_historical_klines(symbol=symbol,\n",
    "                                            interval = Client.KLINE_INTERVAL_1DAY, \n",
    "                                            start_str = \"17, fev 2025\"))\n",
    "\n",
    "    #Criação do Dataframe\n",
    "    df = pd.DataFrame(ar, dtype=float, columns = (\"Open_Time\", \n",
    "                                                \"Open\", \n",
    "                                                'High', \n",
    "                                                'Low', \n",
    "                                                'Closer', \n",
    "                                                'Volume', \n",
    "                                                'Close_Time',\n",
    "                                                'Quote_asset_volume',\n",
    "                                                'Number_of_Trades',\n",
    "                                                'Take buy base asset',\n",
    "                                                'Take buy quote asset',\n",
    "                                                'Ignore'))\n",
    "\n",
    "    # Definindo as colunas necessárias\n",
    "    df = df[['Open_Time', \n",
    "            'Open', \n",
    "            'High', \n",
    "            'Low', \n",
    "            'Closer', \n",
    "            'Volume', \n",
    "            'Close_Time',\n",
    "            'Quote_asset_volume',\n",
    "            'Number_of_Trades']]\n",
    "\n",
    "    #Tratamento de dados (date_time)\n",
    "\n",
    "    df['Open_Time'] = pd.to_datetime(df['Open_Time'], unit = 'ms').dt.tz_localize('UTC').dt.tz_convert('America/Sao_Paulo')\n",
    "    df['Close_Time'] = pd.to_datetime(df['Close_Time'], unit = 'ms').dt.tz_localize('UTC').dt.tz_convert('America/Sao_Paulo')\n",
    "    \n",
    "    # Criação de novas colunas para métricas\n",
    "    \n",
    "    # Variação do preço (%)\n",
    "    df['Variacao_Preco_%'] = (df['Closer'] - df['Open']) / df['Open'] * 100\n",
    "    \n",
    "    # Amplitude da variação\n",
    "    df['Amplitude_Variacao'] = df['High'] - df['Low']\n",
    "\n",
    "        \n",
    "    return df"
   ]
  },
  {
   "cell_type": "code",
   "execution_count": 6,
   "metadata": {},
   "outputs": [],
   "source": [
    "# Moedas selecionadas\n",
    "btc = tratamento_cripto(symbol='BTCBRL')\n",
    "eth = tratamento_cripto(symbol='ETHBRL')\n",
    "sol = tratamento_cripto(symbol='SOLBRL')"
   ]
  },
  {
   "cell_type": "code",
   "execution_count": 7,
   "metadata": {},
   "outputs": [],
   "source": [
    "# Enviar dados para o GBQ\n",
    "\n",
    "to_gbq(btc, destination_table='BD_Binance_API.btc', project_id='etl-cgp', if_exists='replace', credentials=credentials)\n",
    "to_gbq(eth, destination_table='BD_Binance_API.eth', project_id='etl-cgp', if_exists='replace', credentials=credentials)\n",
    "to_gbq(sol, destination_table='BD_Binance_API.sol', project_id='etl-cgp', if_exists='replace', credentials=credentials)\n"
   ]
  }
 ],
 "metadata": {
  "kernelspec": {
   "display_name": "venv",
   "language": "python",
   "name": "python3"
  },
  "language_info": {
   "codemirror_mode": {
    "name": "ipython",
    "version": 3
   },
   "file_extension": ".py",
   "mimetype": "text/x-python",
   "name": "python",
   "nbconvert_exporter": "python",
   "pygments_lexer": "ipython3",
   "version": "3.13.2"
  }
 },
 "nbformat": 4,
 "nbformat_minor": 2
}
