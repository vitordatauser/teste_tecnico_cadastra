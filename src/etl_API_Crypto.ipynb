{
 "cells": [
  {
   "cell_type": "code",
   "execution_count": 8,
   "metadata": {},
   "outputs": [
    {
     "name": "stdout",
     "output_type": "stream",
     "text": [
      "Requirement already satisfied: google-cloud in c:\\users\\vitor santos\\onedrive\\área de trabalho\\teste_tecnico_cadastra\\venv\\lib\\site-packages (0.34.0)\n",
      "Note: you may need to restart the kernel to use updated packages.\n"
     ]
    },
    {
     "name": "stderr",
     "output_type": "stream",
     "text": [
      "\n",
      "[notice] A new release of pip is available: 24.3.1 -> 25.0.1\n",
      "[notice] To update, run: python.exe -m pip install --upgrade pip\n"
     ]
    },
    {
     "name": "stdout",
     "output_type": "stream",
     "text": [
      "Requirement already satisfied: pyarrow in c:\\users\\vitor santos\\onedrive\\área de trabalho\\teste_tecnico_cadastra\\venv\\lib\\site-packages (19.0.1)\n",
      "Note: you may need to restart the kernel to use updated packages.\n"
     ]
    },
    {
     "name": "stderr",
     "output_type": "stream",
     "text": [
      "\n",
      "[notice] A new release of pip is available: 24.3.1 -> 25.0.1\n",
      "[notice] To update, run: python.exe -m pip install --upgrade pip\n"
     ]
    },
    {
     "name": "stdout",
     "output_type": "stream",
     "text": [
      "Requirement already satisfied: google-cloud-bigquery in c:\\users\\vitor santos\\onedrive\\área de trabalho\\teste_tecnico_cadastra\\venv\\lib\\site-packages (3.30.0)\n",
      "Requirement already satisfied: google-api-core<3.0.0dev,>=2.11.1 in c:\\users\\vitor santos\\onedrive\\área de trabalho\\teste_tecnico_cadastra\\venv\\lib\\site-packages (from google-api-core[grpc]<3.0.0dev,>=2.11.1->google-cloud-bigquery) (2.24.1)\n",
      "Requirement already satisfied: google-auth<3.0.0dev,>=2.14.1 in c:\\users\\vitor santos\\onedrive\\área de trabalho\\teste_tecnico_cadastra\\venv\\lib\\site-packages (from google-cloud-bigquery) (2.38.0)\n",
      "Requirement already satisfied: google-cloud-core<3.0.0dev,>=2.4.1 in c:\\users\\vitor santos\\onedrive\\área de trabalho\\teste_tecnico_cadastra\\venv\\lib\\site-packages (from google-cloud-bigquery) (2.4.2)\n",
      "Requirement already satisfied: google-resumable-media<3.0dev,>=2.0.0 in c:\\users\\vitor santos\\onedrive\\área de trabalho\\teste_tecnico_cadastra\\venv\\lib\\site-packages (from google-cloud-bigquery) (2.7.2)\n",
      "Requirement already satisfied: packaging>=20.0.0 in c:\\users\\vitor santos\\onedrive\\área de trabalho\\teste_tecnico_cadastra\\venv\\lib\\site-packages (from google-cloud-bigquery) (24.2)\n",
      "Requirement already satisfied: python-dateutil<3.0dev,>=2.7.3 in c:\\users\\vitor santos\\onedrive\\área de trabalho\\teste_tecnico_cadastra\\venv\\lib\\site-packages (from google-cloud-bigquery) (2.9.0.post0)\n",
      "Requirement already satisfied: requests<3.0.0dev,>=2.21.0 in c:\\users\\vitor santos\\onedrive\\área de trabalho\\teste_tecnico_cadastra\\venv\\lib\\site-packages (from google-cloud-bigquery) (2.32.3)\n",
      "Requirement already satisfied: googleapis-common-protos<2.0.dev0,>=1.56.2 in c:\\users\\vitor santos\\onedrive\\área de trabalho\\teste_tecnico_cadastra\\venv\\lib\\site-packages (from google-api-core<3.0.0dev,>=2.11.1->google-api-core[grpc]<3.0.0dev,>=2.11.1->google-cloud-bigquery) (1.69.0)\n",
      "Requirement already satisfied: protobuf!=3.20.0,!=3.20.1,!=4.21.0,!=4.21.1,!=4.21.2,!=4.21.3,!=4.21.4,!=4.21.5,<6.0.0.dev0,>=3.19.5 in c:\\users\\vitor santos\\onedrive\\área de trabalho\\teste_tecnico_cadastra\\venv\\lib\\site-packages (from google-api-core<3.0.0dev,>=2.11.1->google-api-core[grpc]<3.0.0dev,>=2.11.1->google-cloud-bigquery) (5.29.3)\n",
      "Requirement already satisfied: proto-plus<2.0.0dev,>=1.22.3 in c:\\users\\vitor santos\\onedrive\\área de trabalho\\teste_tecnico_cadastra\\venv\\lib\\site-packages (from google-api-core<3.0.0dev,>=2.11.1->google-api-core[grpc]<3.0.0dev,>=2.11.1->google-cloud-bigquery) (1.26.0)\n",
      "Requirement already satisfied: grpcio<2.0dev,>=1.33.2 in c:\\users\\vitor santos\\onedrive\\área de trabalho\\teste_tecnico_cadastra\\venv\\lib\\site-packages (from google-api-core[grpc]<3.0.0dev,>=2.11.1->google-cloud-bigquery) (1.70.0)\n",
      "Requirement already satisfied: grpcio-status<2.0.dev0,>=1.33.2 in c:\\users\\vitor santos\\onedrive\\área de trabalho\\teste_tecnico_cadastra\\venv\\lib\\site-packages (from google-api-core[grpc]<3.0.0dev,>=2.11.1->google-cloud-bigquery) (1.70.0)\n",
      "Requirement already satisfied: cachetools<6.0,>=2.0.0 in c:\\users\\vitor santos\\onedrive\\área de trabalho\\teste_tecnico_cadastra\\venv\\lib\\site-packages (from google-auth<3.0.0dev,>=2.14.1->google-cloud-bigquery) (5.5.2)\n",
      "Requirement already satisfied: pyasn1-modules>=0.2.1 in c:\\users\\vitor santos\\onedrive\\área de trabalho\\teste_tecnico_cadastra\\venv\\lib\\site-packages (from google-auth<3.0.0dev,>=2.14.1->google-cloud-bigquery) (0.4.1)\n",
      "Requirement already satisfied: rsa<5,>=3.1.4 in c:\\users\\vitor santos\\onedrive\\área de trabalho\\teste_tecnico_cadastra\\venv\\lib\\site-packages (from google-auth<3.0.0dev,>=2.14.1->google-cloud-bigquery) (4.9)\n",
      "Requirement already satisfied: google-crc32c<2.0dev,>=1.0 in c:\\users\\vitor santos\\onedrive\\área de trabalho\\teste_tecnico_cadastra\\venv\\lib\\site-packages (from google-resumable-media<3.0dev,>=2.0.0->google-cloud-bigquery) (1.6.0)\n",
      "Requirement already satisfied: six>=1.5 in c:\\users\\vitor santos\\onedrive\\área de trabalho\\teste_tecnico_cadastra\\venv\\lib\\site-packages (from python-dateutil<3.0dev,>=2.7.3->google-cloud-bigquery) (1.17.0)\n",
      "Requirement already satisfied: charset-normalizer<4,>=2 in c:\\users\\vitor santos\\onedrive\\área de trabalho\\teste_tecnico_cadastra\\venv\\lib\\site-packages (from requests<3.0.0dev,>=2.21.0->google-cloud-bigquery) (3.4.1)\n",
      "Requirement already satisfied: idna<4,>=2.5 in c:\\users\\vitor santos\\onedrive\\área de trabalho\\teste_tecnico_cadastra\\venv\\lib\\site-packages (from requests<3.0.0dev,>=2.21.0->google-cloud-bigquery) (3.10)\n",
      "Requirement already satisfied: urllib3<3,>=1.21.1 in c:\\users\\vitor santos\\onedrive\\área de trabalho\\teste_tecnico_cadastra\\venv\\lib\\site-packages (from requests<3.0.0dev,>=2.21.0->google-cloud-bigquery) (2.3.0)\n",
      "Requirement already satisfied: certifi>=2017.4.17 in c:\\users\\vitor santos\\onedrive\\área de trabalho\\teste_tecnico_cadastra\\venv\\lib\\site-packages (from requests<3.0.0dev,>=2.21.0->google-cloud-bigquery) (2025.1.31)\n",
      "Requirement already satisfied: pyasn1<0.7.0,>=0.4.6 in c:\\users\\vitor santos\\onedrive\\área de trabalho\\teste_tecnico_cadastra\\venv\\lib\\site-packages (from pyasn1-modules>=0.2.1->google-auth<3.0.0dev,>=2.14.1->google-cloud-bigquery) (0.6.1)\n",
      "Note: you may need to restart the kernel to use updated packages.\n"
     ]
    },
    {
     "name": "stderr",
     "output_type": "stream",
     "text": [
      "\n",
      "[notice] A new release of pip is available: 24.3.1 -> 25.0.1\n",
      "[notice] To update, run: python.exe -m pip install --upgrade pip\n"
     ]
    },
    {
     "name": "stdout",
     "output_type": "stream",
     "text": [
      "Requirement already satisfied: pandas-gbq in c:\\users\\vitor santos\\onedrive\\área de trabalho\\teste_tecnico_cadastra\\venv\\lib\\site-packages (0.28.0)\n",
      "Requirement already satisfied: setuptools in c:\\users\\vitor santos\\onedrive\\área de trabalho\\teste_tecnico_cadastra\\venv\\lib\\site-packages (from pandas-gbq) (75.8.2)\n",
      "Requirement already satisfied: db-dtypes<2.0.0,>=1.0.4 in c:\\users\\vitor santos\\onedrive\\área de trabalho\\teste_tecnico_cadastra\\venv\\lib\\site-packages (from pandas-gbq) (1.4.1)\n",
      "Requirement already satisfied: numpy>=1.18.1 in c:\\users\\vitor santos\\onedrive\\área de trabalho\\teste_tecnico_cadastra\\venv\\lib\\site-packages (from pandas-gbq) (2.2.3)\n",
      "Requirement already satisfied: pandas>=1.1.4 in c:\\users\\vitor santos\\onedrive\\área de trabalho\\teste_tecnico_cadastra\\venv\\lib\\site-packages (from pandas-gbq) (2.2.3)\n",
      "Requirement already satisfied: pyarrow>=4.0.0 in c:\\users\\vitor santos\\onedrive\\área de trabalho\\teste_tecnico_cadastra\\venv\\lib\\site-packages (from pandas-gbq) (19.0.1)\n",
      "Requirement already satisfied: pydata-google-auth>=1.5.0 in c:\\users\\vitor santos\\onedrive\\área de trabalho\\teste_tecnico_cadastra\\venv\\lib\\site-packages (from pandas-gbq) (1.9.1)\n",
      "Requirement already satisfied: google-api-core<3.0.0dev,>=2.10.2 in c:\\users\\vitor santos\\onedrive\\área de trabalho\\teste_tecnico_cadastra\\venv\\lib\\site-packages (from pandas-gbq) (2.24.1)\n",
      "Requirement already satisfied: google-auth>=2.13.0 in c:\\users\\vitor santos\\onedrive\\área de trabalho\\teste_tecnico_cadastra\\venv\\lib\\site-packages (from pandas-gbq) (2.38.0)\n",
      "Requirement already satisfied: google-auth-oauthlib>=0.7.0 in c:\\users\\vitor santos\\onedrive\\área de trabalho\\teste_tecnico_cadastra\\venv\\lib\\site-packages (from pandas-gbq) (1.2.1)\n",
      "Requirement already satisfied: google-cloud-bigquery<4.0.0dev,>=3.4.2 in c:\\users\\vitor santos\\onedrive\\área de trabalho\\teste_tecnico_cadastra\\venv\\lib\\site-packages (from pandas-gbq) (3.30.0)\n",
      "Requirement already satisfied: packaging>=22.0.0 in c:\\users\\vitor santos\\onedrive\\área de trabalho\\teste_tecnico_cadastra\\venv\\lib\\site-packages (from pandas-gbq) (24.2)\n",
      "Requirement already satisfied: googleapis-common-protos<2.0.dev0,>=1.56.2 in c:\\users\\vitor santos\\onedrive\\área de trabalho\\teste_tecnico_cadastra\\venv\\lib\\site-packages (from google-api-core<3.0.0dev,>=2.10.2->pandas-gbq) (1.69.0)\n",
      "Requirement already satisfied: protobuf!=3.20.0,!=3.20.1,!=4.21.0,!=4.21.1,!=4.21.2,!=4.21.3,!=4.21.4,!=4.21.5,<6.0.0.dev0,>=3.19.5 in c:\\users\\vitor santos\\onedrive\\área de trabalho\\teste_tecnico_cadastra\\venv\\lib\\site-packages (from google-api-core<3.0.0dev,>=2.10.2->pandas-gbq) (5.29.3)\n",
      "Requirement already satisfied: proto-plus<2.0.0dev,>=1.22.3 in c:\\users\\vitor santos\\onedrive\\área de trabalho\\teste_tecnico_cadastra\\venv\\lib\\site-packages (from google-api-core<3.0.0dev,>=2.10.2->pandas-gbq) (1.26.0)\n",
      "Requirement already satisfied: requests<3.0.0.dev0,>=2.18.0 in c:\\users\\vitor santos\\onedrive\\área de trabalho\\teste_tecnico_cadastra\\venv\\lib\\site-packages (from google-api-core<3.0.0dev,>=2.10.2->pandas-gbq) (2.32.3)\n",
      "Requirement already satisfied: cachetools<6.0,>=2.0.0 in c:\\users\\vitor santos\\onedrive\\área de trabalho\\teste_tecnico_cadastra\\venv\\lib\\site-packages (from google-auth>=2.13.0->pandas-gbq) (5.5.2)\n",
      "Requirement already satisfied: pyasn1-modules>=0.2.1 in c:\\users\\vitor santos\\onedrive\\área de trabalho\\teste_tecnico_cadastra\\venv\\lib\\site-packages (from google-auth>=2.13.0->pandas-gbq) (0.4.1)\n",
      "Requirement already satisfied: rsa<5,>=3.1.4 in c:\\users\\vitor santos\\onedrive\\área de trabalho\\teste_tecnico_cadastra\\venv\\lib\\site-packages (from google-auth>=2.13.0->pandas-gbq) (4.9)\n",
      "Requirement already satisfied: requests-oauthlib>=0.7.0 in c:\\users\\vitor santos\\onedrive\\área de trabalho\\teste_tecnico_cadastra\\venv\\lib\\site-packages (from google-auth-oauthlib>=0.7.0->pandas-gbq) (2.0.0)\n",
      "Requirement already satisfied: google-cloud-core<3.0.0dev,>=2.4.1 in c:\\users\\vitor santos\\onedrive\\área de trabalho\\teste_tecnico_cadastra\\venv\\lib\\site-packages (from google-cloud-bigquery<4.0.0dev,>=3.4.2->pandas-gbq) (2.4.2)\n",
      "Requirement already satisfied: google-resumable-media<3.0dev,>=2.0.0 in c:\\users\\vitor santos\\onedrive\\área de trabalho\\teste_tecnico_cadastra\\venv\\lib\\site-packages (from google-cloud-bigquery<4.0.0dev,>=3.4.2->pandas-gbq) (2.7.2)\n",
      "Requirement already satisfied: python-dateutil<3.0dev,>=2.7.3 in c:\\users\\vitor santos\\onedrive\\área de trabalho\\teste_tecnico_cadastra\\venv\\lib\\site-packages (from google-cloud-bigquery<4.0.0dev,>=3.4.2->pandas-gbq) (2.9.0.post0)\n",
      "Requirement already satisfied: pytz>=2020.1 in c:\\users\\vitor santos\\onedrive\\área de trabalho\\teste_tecnico_cadastra\\venv\\lib\\site-packages (from pandas>=1.1.4->pandas-gbq) (2025.1)\n",
      "Requirement already satisfied: tzdata>=2022.7 in c:\\users\\vitor santos\\onedrive\\área de trabalho\\teste_tecnico_cadastra\\venv\\lib\\site-packages (from pandas>=1.1.4->pandas-gbq) (2025.1)\n",
      "Requirement already satisfied: grpcio<2.0dev,>=1.33.2 in c:\\users\\vitor santos\\onedrive\\área de trabalho\\teste_tecnico_cadastra\\venv\\lib\\site-packages (from google-api-core[grpc]<3.0.0dev,>=2.11.1->google-cloud-bigquery<4.0.0dev,>=3.4.2->pandas-gbq) (1.70.0)\n",
      "Requirement already satisfied: grpcio-status<2.0.dev0,>=1.33.2 in c:\\users\\vitor santos\\onedrive\\área de trabalho\\teste_tecnico_cadastra\\venv\\lib\\site-packages (from google-api-core[grpc]<3.0.0dev,>=2.11.1->google-cloud-bigquery<4.0.0dev,>=3.4.2->pandas-gbq) (1.70.0)\n",
      "Requirement already satisfied: google-crc32c<2.0dev,>=1.0 in c:\\users\\vitor santos\\onedrive\\área de trabalho\\teste_tecnico_cadastra\\venv\\lib\\site-packages (from google-resumable-media<3.0dev,>=2.0.0->google-cloud-bigquery<4.0.0dev,>=3.4.2->pandas-gbq) (1.6.0)\n",
      "Requirement already satisfied: pyasn1<0.7.0,>=0.4.6 in c:\\users\\vitor santos\\onedrive\\área de trabalho\\teste_tecnico_cadastra\\venv\\lib\\site-packages (from pyasn1-modules>=0.2.1->google-auth>=2.13.0->pandas-gbq) (0.6.1)\n",
      "Requirement already satisfied: six>=1.5 in c:\\users\\vitor santos\\onedrive\\área de trabalho\\teste_tecnico_cadastra\\venv\\lib\\site-packages (from python-dateutil<3.0dev,>=2.7.3->google-cloud-bigquery<4.0.0dev,>=3.4.2->pandas-gbq) (1.17.0)\n",
      "Requirement already satisfied: charset-normalizer<4,>=2 in c:\\users\\vitor santos\\onedrive\\área de trabalho\\teste_tecnico_cadastra\\venv\\lib\\site-packages (from requests<3.0.0.dev0,>=2.18.0->google-api-core<3.0.0dev,>=2.10.2->pandas-gbq) (3.4.1)\n",
      "Requirement already satisfied: idna<4,>=2.5 in c:\\users\\vitor santos\\onedrive\\área de trabalho\\teste_tecnico_cadastra\\venv\\lib\\site-packages (from requests<3.0.0.dev0,>=2.18.0->google-api-core<3.0.0dev,>=2.10.2->pandas-gbq) (3.10)\n",
      "Requirement already satisfied: urllib3<3,>=1.21.1 in c:\\users\\vitor santos\\onedrive\\área de trabalho\\teste_tecnico_cadastra\\venv\\lib\\site-packages (from requests<3.0.0.dev0,>=2.18.0->google-api-core<3.0.0dev,>=2.10.2->pandas-gbq) (2.3.0)\n",
      "Requirement already satisfied: certifi>=2017.4.17 in c:\\users\\vitor santos\\onedrive\\área de trabalho\\teste_tecnico_cadastra\\venv\\lib\\site-packages (from requests<3.0.0.dev0,>=2.18.0->google-api-core<3.0.0dev,>=2.10.2->pandas-gbq) (2025.1.31)\n",
      "Requirement already satisfied: oauthlib>=3.0.0 in c:\\users\\vitor santos\\onedrive\\área de trabalho\\teste_tecnico_cadastra\\venv\\lib\\site-packages (from requests-oauthlib>=0.7.0->google-auth-oauthlib>=0.7.0->pandas-gbq) (3.2.2)\n",
      "Note: you may need to restart the kernel to use updated packages.\n"
     ]
    },
    {
     "name": "stderr",
     "output_type": "stream",
     "text": [
      "\n",
      "[notice] A new release of pip is available: 24.3.1 -> 25.0.1\n",
      "[notice] To update, run: python.exe -m pip install --upgrade pip\n"
     ]
    },
    {
     "name": "stdout",
     "output_type": "stream",
     "text": [
      "Requirement already satisfied: python-binance in c:\\users\\vitor santos\\onedrive\\área de trabalho\\teste_tecnico_cadastra\\venv\\lib\\site-packages (1.0.28)\n",
      "Requirement already satisfied: requests in c:\\users\\vitor santos\\onedrive\\área de trabalho\\teste_tecnico_cadastra\\venv\\lib\\site-packages (from python-binance) (2.32.3)\n",
      "Requirement already satisfied: six in c:\\users\\vitor santos\\onedrive\\área de trabalho\\teste_tecnico_cadastra\\venv\\lib\\site-packages (from python-binance) (1.17.0)\n",
      "Requirement already satisfied: dateparser in c:\\users\\vitor santos\\onedrive\\área de trabalho\\teste_tecnico_cadastra\\venv\\lib\\site-packages (from python-binance) (1.2.1)\n",
      "Requirement already satisfied: aiohttp in c:\\users\\vitor santos\\onedrive\\área de trabalho\\teste_tecnico_cadastra\\venv\\lib\\site-packages (from python-binance) (3.11.13)\n",
      "Requirement already satisfied: websockets in c:\\users\\vitor santos\\onedrive\\área de trabalho\\teste_tecnico_cadastra\\venv\\lib\\site-packages (from python-binance) (15.0)\n",
      "Requirement already satisfied: pycryptodome in c:\\users\\vitor santos\\onedrive\\área de trabalho\\teste_tecnico_cadastra\\venv\\lib\\site-packages (from python-binance) (3.21.0)\n",
      "Requirement already satisfied: aiohappyeyeballs>=2.3.0 in c:\\users\\vitor santos\\onedrive\\área de trabalho\\teste_tecnico_cadastra\\venv\\lib\\site-packages (from aiohttp->python-binance) (2.4.8)\n",
      "Requirement already satisfied: aiosignal>=1.1.2 in c:\\users\\vitor santos\\onedrive\\área de trabalho\\teste_tecnico_cadastra\\venv\\lib\\site-packages (from aiohttp->python-binance) (1.3.2)\n",
      "Requirement already satisfied: attrs>=17.3.0 in c:\\users\\vitor santos\\onedrive\\área de trabalho\\teste_tecnico_cadastra\\venv\\lib\\site-packages (from aiohttp->python-binance) (25.1.0)\n",
      "Requirement already satisfied: frozenlist>=1.1.1 in c:\\users\\vitor santos\\onedrive\\área de trabalho\\teste_tecnico_cadastra\\venv\\lib\\site-packages (from aiohttp->python-binance) (1.5.0)\n",
      "Requirement already satisfied: multidict<7.0,>=4.5 in c:\\users\\vitor santos\\onedrive\\área de trabalho\\teste_tecnico_cadastra\\venv\\lib\\site-packages (from aiohttp->python-binance) (6.1.0)\n",
      "Requirement already satisfied: propcache>=0.2.0 in c:\\users\\vitor santos\\onedrive\\área de trabalho\\teste_tecnico_cadastra\\venv\\lib\\site-packages (from aiohttp->python-binance) (0.3.0)\n",
      "Requirement already satisfied: yarl<2.0,>=1.17.0 in c:\\users\\vitor santos\\onedrive\\área de trabalho\\teste_tecnico_cadastra\\venv\\lib\\site-packages (from aiohttp->python-binance) (1.18.3)\n",
      "Requirement already satisfied: python-dateutil>=2.7.0 in c:\\users\\vitor santos\\onedrive\\área de trabalho\\teste_tecnico_cadastra\\venv\\lib\\site-packages (from dateparser->python-binance) (2.9.0.post0)\n",
      "Requirement already satisfied: pytz>=2024.2 in c:\\users\\vitor santos\\onedrive\\área de trabalho\\teste_tecnico_cadastra\\venv\\lib\\site-packages (from dateparser->python-binance) (2025.1)\n",
      "Requirement already satisfied: regex!=2019.02.19,!=2021.8.27,>=2015.06.24 in c:\\users\\vitor santos\\onedrive\\área de trabalho\\teste_tecnico_cadastra\\venv\\lib\\site-packages (from dateparser->python-binance) (2024.11.6)\n",
      "Requirement already satisfied: tzlocal>=0.2 in c:\\users\\vitor santos\\onedrive\\área de trabalho\\teste_tecnico_cadastra\\venv\\lib\\site-packages (from dateparser->python-binance) (5.3)\n",
      "Requirement already satisfied: charset-normalizer<4,>=2 in c:\\users\\vitor santos\\onedrive\\área de trabalho\\teste_tecnico_cadastra\\venv\\lib\\site-packages (from requests->python-binance) (3.4.1)\n",
      "Requirement already satisfied: idna<4,>=2.5 in c:\\users\\vitor santos\\onedrive\\área de trabalho\\teste_tecnico_cadastra\\venv\\lib\\site-packages (from requests->python-binance) (3.10)\n",
      "Requirement already satisfied: urllib3<3,>=1.21.1 in c:\\users\\vitor santos\\onedrive\\área de trabalho\\teste_tecnico_cadastra\\venv\\lib\\site-packages (from requests->python-binance) (2.3.0)\n",
      "Requirement already satisfied: certifi>=2017.4.17 in c:\\users\\vitor santos\\onedrive\\área de trabalho\\teste_tecnico_cadastra\\venv\\lib\\site-packages (from requests->python-binance) (2025.1.31)\n",
      "Requirement already satisfied: tzdata in c:\\users\\vitor santos\\onedrive\\área de trabalho\\teste_tecnico_cadastra\\venv\\lib\\site-packages (from tzlocal>=0.2->dateparser->python-binance) (2025.1)\n",
      "Note: you may need to restart the kernel to use updated packages.\n"
     ]
    },
    {
     "name": "stderr",
     "output_type": "stream",
     "text": [
      "\n",
      "[notice] A new release of pip is available: 24.3.1 -> 25.0.1\n",
      "[notice] To update, run: python.exe -m pip install --upgrade pip\n"
     ]
    }
   ],
   "source": [
    "#Instalação de dependencias \n",
    "%pip install google-cloud\n",
    "%pip install pyarrow\n",
    "%pip install google-cloud-bigquery\n",
    "%pip install pandas-gbq\n",
    "%pip install python-binance"
   ]
  },
  {
   "cell_type": "code",
   "execution_count": 2,
   "metadata": {},
   "outputs": [],
   "source": [
    "#importação das bibliotecas\n",
    "import os\n",
    "import pandas as pd\n",
    "from pandas_gbq import to_gbq\n",
    "import numpy as  np\n",
    "import google.cloud.bigquery\n",
    "from google.cloud import bigquery\n",
    "from google.oauth2 import service_account\n",
    "from binance.client import Client "
   ]
  },
  {
   "cell_type": "code",
   "execution_count": 3,
   "metadata": {},
   "outputs": [],
   "source": [
    "#Criação do objeto virtual para GCP \n",
    "credentials = service_account.Credentials.from_service_account_file(\"GBQ.json\", \n",
    "                                                                    scopes=['https://www.googleapis.com/auth/cloud-platform',\n",
    "                                                                            'https://www.googleapis.com/auth/drive'])\n"
   ]
  },
  {
   "cell_type": "code",
   "execution_count": 4,
   "metadata": {},
   "outputs": [],
   "source": [
    "# Conexão com API da Binance\n",
    "api_key = os.getenv(\"api_key_binance\")\n",
    "api_secret = os.getenv(\"api_secret_binance\")\n",
    "\n",
    "client = Client(api_key, api_secret)"
   ]
  },
  {
   "cell_type": "code",
   "execution_count": 5,
   "metadata": {},
   "outputs": [],
   "source": [
    "#Função de tratamento dos dados recebidos\n",
    "\n",
    "def tratamento_cripto(symbol):\n",
    "    \n",
    "    # extração dos dados históricos\n",
    "    ar = np.array(client.get_historical_klines(symbol=symbol,\n",
    "                                            interval = Client.KLINE_INTERVAL_1DAY, \n",
    "                                            start_str = \"17, fev 2025\"))\n",
    "\n",
    "    #Criação do Dataframe\n",
    "    df = pd.DataFrame(ar, dtype=float, columns = (\"Open_Time\", \n",
    "                                                \"Open\", \n",
    "                                                'High', \n",
    "                                                'Low', \n",
    "                                                'Closer', \n",
    "                                                'Volume', \n",
    "                                                'Close_Time',\n",
    "                                                'Quote_asset_volume',\n",
    "                                                'Number_of_Trades',\n",
    "                                                'Take buy base asset',\n",
    "                                                'Take buy quote asset',\n",
    "                                                'Ignore'))\n",
    "\n",
    "    # Definindo as colunas necessárias\n",
    "    df = df[['Open_Time', \n",
    "            'Open', \n",
    "            'High', \n",
    "            'Low', \n",
    "            'Closer', \n",
    "            'Volume', \n",
    "            'Close_Time',\n",
    "            'Quote_asset_volume',\n",
    "            'Number_of_Trades']]\n",
    "\n",
    "    #Tratamento de dados (date_time)\n",
    "\n",
    "    df['Open_Time'] = pd.to_datetime(df['Open_Time'], unit = 'ms').dt.tz_localize('UTC').dt.tz_convert('America/Sao_Paulo')\n",
    "    df['Close_Time'] = pd.to_datetime(df['Close_Time'], unit = 'ms').dt.tz_localize('UTC').dt.tz_convert('America/Sao_Paulo')\n",
    "    \n",
    "    # Criação de novas colunas para métricas\n",
    "    \n",
    "    # Variação do preço (%)\n",
    "    df['Variacao_Preco_%'] = (df['Closer'] - df['Open']) / df['Open'] * 100\n",
    "    \n",
    "    # Amplitude da variação\n",
    "    df['Amplitude_Variacao'] = df['High'] - df['Low']\n",
    "\n",
    "        \n",
    "    return df"
   ]
  },
  {
   "cell_type": "code",
   "execution_count": 6,
   "metadata": {},
   "outputs": [],
   "source": [
    "# Moedas selecionadas\n",
    "btc = tratamento_cripto(symbol='BTCBRL')\n",
    "eth = tratamento_cripto(symbol='ETHBRL')\n",
    "sol = tratamento_cripto(symbol='SOLBRL')"
   ]
  },
  {
   "cell_type": "code",
   "execution_count": 7,
   "metadata": {},
   "outputs": [],
   "source": [
    "# Enviar dados para o GBQ\n",
    "\n",
    "to_gbq(btc, destination_table='BD_Binance_API.btc', project_id='etl-cgp', if_exists='replace', credentials=credentials)\n",
    "to_gbq(eth, destination_table='BD_Binance_API.eth', project_id='etl-cgp', if_exists='replace', credentials=credentials)\n",
    "to_gbq(sol, destination_table='BD_Binance_API.sol', project_id='etl-cgp', if_exists='replace', credentials=credentials)\n"
   ]
  }
 ],
 "metadata": {
  "kernelspec": {
   "display_name": "venv",
   "language": "python",
   "name": "python3"
  },
  "language_info": {
   "codemirror_mode": {
    "name": "ipython",
    "version": 3
   },
   "file_extension": ".py",
   "mimetype": "text/x-python",
   "name": "python",
   "nbconvert_exporter": "python",
   "pygments_lexer": "ipython3",
   "version": "3.13.2"
  }
 },
 "nbformat": 4,
 "nbformat_minor": 2
}
